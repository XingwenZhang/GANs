{
 "cells": [
  {
   "cell_type": "code",
   "execution_count": 79,
   "metadata": {
    "collapsed": true
   },
   "outputs": [],
   "source": [
    "import tensorflow as tf\n",
    "from tensorflow.examples.tutorials.mnist import input_data\n",
    "import numpy as np\n",
    "import matplotlib.pyplot as plt\n",
    "import matplotlib.gridspec as gridspec\n",
    "import os"
   ]
  },
  {
   "cell_type": "code",
   "execution_count": 80,
   "metadata": {
    "collapsed": true
   },
   "outputs": [],
   "source": [
    "def variable_init(size):\n",
    "    in_dim = size[0]\n",
    "#     variable_stddev = 1./tf.sqrt(in_dim/2.)\n",
    "    variable_stddev = tf.sqrt(2./in_dim)\n",
    "    return tf.random_normal(shape=size,stddev=variable_stddev)\n",
    "#     return tf.random_normal(shape=size)"
   ]
  },
  {
   "cell_type": "code",
   "execution_count": 81,
   "metadata": {},
   "outputs": [],
   "source": [
    "# np.random.uniform(0., 1.)"
   ]
  },
  {
   "cell_type": "code",
   "execution_count": null,
   "metadata": {
    "collapsed": true
   },
   "outputs": [],
   "source": []
  },
  {
   "cell_type": "code",
   "execution_count": 82,
   "metadata": {
    "collapsed": true
   },
   "outputs": [],
   "source": [
    "mb_size = 32\n",
    "Z_dim = 10\n",
    "Lambda = 10"
   ]
  },
  {
   "cell_type": "code",
   "execution_count": 83,
   "metadata": {
    "collapsed": true
   },
   "outputs": [],
   "source": [
    "X = tf.placeholder(tf.float32, shape=[None,784])\n",
    "\n",
    "D_W1 = tf.Variable(variable_init([784,128]))\n",
    "D_b1 = tf.Variable(tf.zeros(shape=[128]))\n",
    "\n",
    "D_W2 = tf.Variable(variable_init([128, 1]))\n",
    "D_b2 = tf.Variable(tf.zeros(shape=[1]))\n",
    "\n",
    "theta_D = [D_W1, D_W2, D_b1, D_b2]\n"
   ]
  },
  {
   "cell_type": "code",
   "execution_count": 84,
   "metadata": {
    "collapsed": true
   },
   "outputs": [],
   "source": [
    "Z = tf.placeholder(tf.float32, shape=[None, Z_dim])\n",
    "\n",
    "G_W1 = tf.Variable(variable_init([Z_dim,128]))\n",
    "G_b1 = tf.Variable(tf.zeros(shape=[128]))\n",
    "\n",
    "G_W2 = tf.Variable(variable_init([128,784]))\n",
    "G_b2 = tf.Variable(tf.zeros(shape=[784]))\n",
    "\n",
    "theta_G = [G_W1, G_W2, G_b1, G_b2]"
   ]
  },
  {
   "cell_type": "code",
   "execution_count": 85,
   "metadata": {
    "collapsed": true
   },
   "outputs": [],
   "source": [
    "def sample_Z(m,n):\n",
    "    # Here cannot use tf.random_uniform, because it will feed into placeholder\n",
    "    return np.random.uniform(-1.,1.,size=[m,n])\n",
    "def generate_epsilon(batch_size):\n",
    "    return tf.random_uniform(shape=[batch_size,1],minval=0.,maxval=1.0)\n",
    "    "
   ]
  },
  {
   "cell_type": "code",
   "execution_count": 86,
   "metadata": {
    "collapsed": true
   },
   "outputs": [],
   "source": [
    "def generator(z):\n",
    "    G_h1 = tf.nn.relu(tf.matmul(z, G_W1) + G_b1)\n",
    "    G_prob = tf.nn.sigmoid(tf.matmul(G_h1, G_W2) + G_b2)\n",
    "    return G_prob"
   ]
  },
  {
   "cell_type": "code",
   "execution_count": 87,
   "metadata": {
    "collapsed": true
   },
   "outputs": [],
   "source": [
    "def discriminator(x):\n",
    "    D_h1 = tf.nn.relu(tf.matmul(x, D_W1) + D_b1)\n",
    "    D_logit = tf.matmul(D_h1, D_W2) + D_b2\n",
    "    # Remove sigmoid from origin GAN\n",
    "#     D_prob = tf.nn.sigmoid(D_logit)\n",
    "    return D_logit"
   ]
  },
  {
   "cell_type": "code",
   "execution_count": 88,
   "metadata": {
    "collapsed": true
   },
   "outputs": [],
   "source": [
    "def plot(samples):\n",
    "    fig = plt.figure(figsize=(4,4))\n",
    "    gs = gridspec.GridSpec(4,4)\n",
    "    gs.update(wspace=0.05, hspace=0.05)\n",
    "    \n",
    "    for i, sample in enumerate(samples):\n",
    "        ax = plt.subplot(gs[i])\n",
    "        plt.axis('off')\n",
    "        ax.set_xticklabels([])\n",
    "        ax.set_yticklabels([])\n",
    "        ax.set_aspect('equal')\n",
    "        plt.imshow(sample.reshape(28,28),cmap='Greys_r')\n",
    "    return fig"
   ]
  },
  {
   "cell_type": "code",
   "execution_count": 89,
   "metadata": {
    "collapsed": true
   },
   "outputs": [],
   "source": [
    "G_sample = generator(Z)\n",
    "D_logit_real = discriminator(X)\n",
    "D_logit_fake = discriminator(G_sample)"
   ]
  },
  {
   "cell_type": "code",
   "execution_count": null,
   "metadata": {
    "collapsed": true
   },
   "outputs": [],
   "source": []
  },
  {
   "cell_type": "code",
   "execution_count": 90,
   "metadata": {
    "collapsed": true
   },
   "outputs": [],
   "source": [
    "# D_loss_real = tf.reduce_mean(tf.nn.sigmoid_cross_entropy_with_logits(logits=D_logit_real, labels=tf.ones_like(D_logit_real)))\n",
    "# D_loss_fake = tf.reduce_mean(tf.nn.sigmoid_cross_entropy_with_logits(logits=D_logit_fake, labels=tf.zeros_like(D_logit_fake)))\n",
    "# D_loss = D_loss_real + D_loss_fake\n",
    "\n",
    "# G_loss = tf.reduce_mean(tf.nn.sigmoid_cross_entropy_with_logits(logits=D_logit_fake, labels=tf.ones_like(D_logit_fake)))\n",
    "\n",
    "# D_solver = tf.train.AdamOptimizer().minimize(D_loss, var_list=theta_D)\n",
    "# G_solver = tf.train.AdamOptimizer().minimize(G_loss, var_list=theta_G)\n",
    "\n"
   ]
  },
  {
   "cell_type": "code",
   "execution_count": 91,
   "metadata": {},
   "outputs": [],
   "source": [
    "D_loss = tf.reduce_mean(D_logit_real) - tf.reduce_mean(D_logit_fake)\n",
    "G_loss = -tf.reduce_mean(D_logit_fake)\n",
    "\n",
    "epsilon = generate_epsilon(mb_size)\n",
    "interpolates = epsilon * X + (1-epsilon) * G_sample\n",
    "D_interpolates = discriminator(interpolates)\n",
    "gradients = tf.gradients(D_interpolates,[interpolates])[0]\n",
    "slopes = tf.sqrt(tf.reduce_sum(tf.square(gradients), 1))\n",
    "gradient_penalty = tf.reduce_mean((slopes-1)**2)\n",
    "\n",
    "D_loss = -D_loss + Lambda * gradient_penalty\n",
    "\n",
    "D_solver = tf.train.AdamOptimizer(learning_rate=1e-4,beta1=0.5,beta2=0.9).minimize(D_loss, var_list=theta_D)\n",
    "G_solver = tf.train.AdamOptimizer(learning_rate=1e-4,beta1=0.5,beta2=0.9).minimize(G_loss, var_list=theta_G)\n",
    "\n",
    "# Only clip the w, no b\n",
    "# clip_D = [p.assign(tf.clip_by_value(p,-0.01,0.01)) for p in theta_D[:2]]\n"
   ]
  },
  {
   "cell_type": "code",
   "execution_count": null,
   "metadata": {
    "collapsed": true
   },
   "outputs": [],
   "source": []
  },
  {
   "cell_type": "code",
   "execution_count": 92,
   "metadata": {},
   "outputs": [
    {
     "name": "stdout",
     "output_type": "stream",
     "text": [
      "Extracting ../../common_dataset/MNIST_data/train-images-idx3-ubyte.gz\n",
      "Extracting ../../common_dataset/MNIST_data/train-labels-idx1-ubyte.gz\n",
      "Extracting ../../common_dataset/MNIST_data/t10k-images-idx3-ubyte.gz\n",
      "Extracting ../../common_dataset/MNIST_data/t10k-labels-idx1-ubyte.gz\n"
     ]
    }
   ],
   "source": [
    "mnist = input_data.read_data_sets('../../common_dataset/MNIST_data',one_hot=True)"
   ]
  },
  {
   "cell_type": "code",
   "execution_count": 93,
   "metadata": {
    "collapsed": true
   },
   "outputs": [],
   "source": [
    "sess = tf.Session()\n",
    "sess.run(tf.global_variables_initializer())"
   ]
  },
  {
   "cell_type": "code",
   "execution_count": 94,
   "metadata": {
    "collapsed": true
   },
   "outputs": [],
   "source": [
    "if not os.path.exists('out/'):\n",
    "    os.makedirs('out/')"
   ]
  },
  {
   "cell_type": "code",
   "execution_count": 95,
   "metadata": {
    "collapsed": true
   },
   "outputs": [],
   "source": [
    "# i=0\n",
    "# for it in range(10000):\n",
    "#     if it%1000 == 0:\n",
    "#         samples = sess.run(G_sample, feed_dict={Z:sample_Z(16,Z_dim)})\n",
    "        \n",
    "#         fig = plot(samples)\n",
    "#         plt.savefig('out/{}.png'.format(str(i).zfill(3)), bbox_inches='tight')\n",
    "#         i+=1\n",
    "#         plt.close(fig)\n",
    "    \n",
    "#     X_mb, _ = mnist.train.next_batch(mb_size)\n",
    "#     _, D_loss_curr = sess.run([D_solver, D_loss], feed_dict={X:X_mb, Z:sample_Z(mb_size,Z_dim)})\n",
    "#     _, G_loss_curr = sess.run([G_solver, G_loss], feed_dict={Z:sample_Z(mb_size, Z_dim)})\n",
    "#     if it % 1000 == 0:\n",
    "#         print('Iter:{}'.format(it))\n",
    "#         print('D_loss:{:.4}'.format(D_loss_curr))\n",
    "#         print('G_loss:{:.4}'.format(G_loss_curr))\n",
    "#         print()"
   ]
  },
  {
   "cell_type": "code",
   "execution_count": 96,
   "metadata": {},
   "outputs": [],
   "source": [
    "# a=tf.constant([1,2,3])\n",
    "# b=tf.constant([5,6,7])\n",
    "# tf.transpose(a)*b\n"
   ]
  },
  {
   "cell_type": "code",
   "execution_count": 97,
   "metadata": {},
   "outputs": [
    {
     "name": "stdout",
     "output_type": "stream",
     "text": [
      "Iter:0; D_loss: 0.3419; G_loss: 0.7854\n",
      "Iter:100; D_loss: -12.0; G_loss: 15.16\n",
      "Iter:200; D_loss: -9.779; G_loss: 11.11\n",
      "Iter:300; D_loss: -7.66; G_loss: 7.2\n",
      "Iter:400; D_loss: -6.511; G_loss: 4.383\n",
      "Iter:500; D_loss: -5.397; G_loss: 2.601\n",
      "Iter:600; D_loss: -4.643; G_loss: 1.174\n",
      "Iter:700; D_loss: -4.268; G_loss: 0.4554\n",
      "Iter:800; D_loss: -3.585; G_loss: -0.1457\n",
      "Iter:900; D_loss: -3.923; G_loss: -0.1709\n",
      "Iter:1000; D_loss: -3.195; G_loss: -0.3823\n",
      "Iter:1100; D_loss: -3.329; G_loss: -0.4284\n",
      "Iter:1200; D_loss: -3.212; G_loss: -0.58\n",
      "Iter:1300; D_loss: -3.034; G_loss: -0.5766\n",
      "Iter:1400; D_loss: -3.045; G_loss: -0.5219\n",
      "Iter:1500; D_loss: -3.186; G_loss: -0.5897\n",
      "Iter:1600; D_loss: -2.984; G_loss: -0.7179\n",
      "Iter:1700; D_loss: -2.758; G_loss: -0.5946\n",
      "Iter:1800; D_loss: -2.665; G_loss: -0.6978\n",
      "Iter:1900; D_loss: -2.676; G_loss: -0.6428\n",
      "Iter:2000; D_loss: -2.584; G_loss: -0.601\n",
      "Iter:2100; D_loss: -2.592; G_loss: -0.7561\n",
      "Iter:2200; D_loss: -2.679; G_loss: -0.686\n",
      "Iter:2300; D_loss: -2.452; G_loss: -0.7058\n",
      "Iter:2400; D_loss: -2.443; G_loss: -0.8576\n",
      "Iter:2500; D_loss: -2.364; G_loss: -1.007\n",
      "Iter:2600; D_loss: -2.499; G_loss: -0.8116\n",
      "Iter:2700; D_loss: -2.513; G_loss: -0.8571\n",
      "Iter:2800; D_loss: -2.31; G_loss: -0.8908\n",
      "Iter:2900; D_loss: -2.351; G_loss: -0.8822\n",
      "Iter:3000; D_loss: -2.218; G_loss: -0.9126\n",
      "Iter:3100; D_loss: -2.431; G_loss: -0.8823\n",
      "Iter:3200; D_loss: -2.156; G_loss: -0.8522\n",
      "Iter:3300; D_loss: -2.449; G_loss: -0.998\n",
      "Iter:3400; D_loss: -2.074; G_loss: -0.9351\n",
      "Iter:3500; D_loss: -2.397; G_loss: -1.058\n",
      "Iter:3600; D_loss: -2.064; G_loss: -0.8735\n",
      "Iter:3700; D_loss: -2.429; G_loss: -1.017\n",
      "Iter:3800; D_loss: -2.169; G_loss: -0.9463\n",
      "Iter:3900; D_loss: -2.202; G_loss: -1.134\n",
      "Iter:4000; D_loss: -2.275; G_loss: -0.9521\n",
      "Iter:4100; D_loss: -2.18; G_loss: -0.9318\n",
      "Iter:4200; D_loss: -2.074; G_loss: -1.058\n",
      "Iter:4300; D_loss: -2.189; G_loss: -1.05\n",
      "Iter:4400; D_loss: -2.252; G_loss: -1.005\n",
      "Iter:4500; D_loss: -1.989; G_loss: -1.094\n",
      "Iter:4600; D_loss: -2.286; G_loss: -0.9873\n",
      "Iter:4700; D_loss: -1.805; G_loss: -1.093\n",
      "Iter:4800; D_loss: -2.058; G_loss: -1.236\n",
      "Iter:4900; D_loss: -2.077; G_loss: -1.066\n",
      "Iter:5000; D_loss: -2.013; G_loss: -0.9406\n",
      "Iter:5100; D_loss: -2.138; G_loss: -1.089\n",
      "Iter:5200; D_loss: -2.157; G_loss: -1.129\n",
      "Iter:5300; D_loss: -2.049; G_loss: -1.128\n",
      "Iter:5400; D_loss: -1.935; G_loss: -1.056\n",
      "Iter:5500; D_loss: -1.865; G_loss: -1.184\n",
      "Iter:5600; D_loss: -1.989; G_loss: -1.089\n",
      "Iter:5700; D_loss: -1.994; G_loss: -1.001\n",
      "Iter:5800; D_loss: -1.958; G_loss: -1.226\n",
      "Iter:5900; D_loss: -1.881; G_loss: -1.194\n",
      "Iter:6000; D_loss: -1.981; G_loss: -1.13\n",
      "Iter:6100; D_loss: -1.882; G_loss: -1.101\n",
      "Iter:6200; D_loss: -1.843; G_loss: -0.9889\n",
      "Iter:6300; D_loss: -1.604; G_loss: -1.158\n",
      "Iter:6400; D_loss: -1.844; G_loss: -1.17\n",
      "Iter:6500; D_loss: -1.715; G_loss: -1.08\n",
      "Iter:6600; D_loss: -1.74; G_loss: -1.084\n",
      "Iter:6700; D_loss: -1.755; G_loss: -1.088\n",
      "Iter:6800; D_loss: -1.797; G_loss: -1.134\n",
      "Iter:6900; D_loss: -1.672; G_loss: -1.114\n",
      "Iter:7000; D_loss: -1.775; G_loss: -1.172\n",
      "Iter:7100; D_loss: -1.898; G_loss: -0.9794\n",
      "Iter:7200; D_loss: -1.706; G_loss: -1.227\n",
      "Iter:7300; D_loss: -1.721; G_loss: -1.03\n",
      "Iter:7400; D_loss: -1.772; G_loss: -1.084\n",
      "Iter:7500; D_loss: -1.847; G_loss: -1.018\n",
      "Iter:7600; D_loss: -1.833; G_loss: -1.099\n",
      "Iter:7700; D_loss: -1.94; G_loss: -0.9406\n",
      "Iter:7800; D_loss: -1.755; G_loss: -1.081\n",
      "Iter:7900; D_loss: -1.906; G_loss: -0.9278\n",
      "Iter:8000; D_loss: -1.801; G_loss: -1.038\n",
      "Iter:8100; D_loss: -1.953; G_loss: -1.086\n",
      "Iter:8200; D_loss: -1.854; G_loss: -1.029\n",
      "Iter:8300; D_loss: -1.943; G_loss: -0.968\n",
      "Iter:8400; D_loss: -1.802; G_loss: -0.9704\n",
      "Iter:8500; D_loss: -1.883; G_loss: -0.9384\n",
      "Iter:8600; D_loss: -1.861; G_loss: -1.077\n",
      "Iter:8700; D_loss: -1.828; G_loss: -1.113\n",
      "Iter:8800; D_loss: -1.572; G_loss: -1.004\n",
      "Iter:8900; D_loss: -1.687; G_loss: -1.059\n",
      "Iter:9000; D_loss: -1.791; G_loss: -1.248\n",
      "Iter:9100; D_loss: -1.708; G_loss: -1.211\n",
      "Iter:9200; D_loss: -1.76; G_loss: -1.088\n",
      "Iter:9300; D_loss: -1.658; G_loss: -1.162\n",
      "Iter:9400; D_loss: -1.696; G_loss: -1.093\n",
      "Iter:9500; D_loss: -1.903; G_loss: -1.265\n",
      "Iter:9600; D_loss: -1.603; G_loss: -1.059\n",
      "Iter:9700; D_loss: -1.731; G_loss: -1.048\n",
      "Iter:9800; D_loss: -1.755; G_loss: -1.133\n",
      "Iter:9900; D_loss: -1.852; G_loss: -0.9517\n"
     ]
    }
   ],
   "source": [
    "i = 0\n",
    "for it in range(10000):\n",
    "    for _ in range(5):\n",
    "        X_mb, _ = mnist.train.next_batch(mb_size)\n",
    "        \n",
    "        _, D_loss_curr = sess.run([D_solver, D_loss],\n",
    "                                    feed_dict={X:X_mb, Z:sample_Z(mb_size, Z_dim)})\n",
    "    \n",
    "    _, G_loss_curr = sess.run([G_solver, G_loss],\n",
    "                             feed_dict={Z:sample_Z(mb_size, Z_dim)})\n",
    "    \n",
    "    if it % 100 == 0:\n",
    "        print('Iter:{}; D_loss: {:.4}; G_loss: {:.4}'.format(it, D_loss_curr, G_loss_curr))\n",
    "        \n",
    "        if it % 1000 == 0:\n",
    "            samples = sess.run(G_sample, feed_dict={Z:sample_Z(16,Z_dim)})\n",
    "            fig = plot(samples)\n",
    "            plt.savefig('out/{}.png'.format(str(i).zfill(3)), bbox_inches='tight')\n",
    "            i += 1\n",
    "            plt.close(fig)\n",
    "    \n",
    "    "
   ]
  },
  {
   "cell_type": "code",
   "execution_count": null,
   "metadata": {
    "collapsed": true
   },
   "outputs": [],
   "source": []
  },
  {
   "cell_type": "code",
   "execution_count": null,
   "metadata": {
    "collapsed": true
   },
   "outputs": [],
   "source": []
  },
  {
   "cell_type": "code",
   "execution_count": null,
   "metadata": {
    "collapsed": true
   },
   "outputs": [],
   "source": []
  },
  {
   "cell_type": "code",
   "execution_count": null,
   "metadata": {
    "collapsed": true
   },
   "outputs": [],
   "source": []
  },
  {
   "cell_type": "code",
   "execution_count": null,
   "metadata": {
    "collapsed": true
   },
   "outputs": [],
   "source": []
  },
  {
   "cell_type": "code",
   "execution_count": null,
   "metadata": {
    "collapsed": true
   },
   "outputs": [],
   "source": []
  }
 ],
 "metadata": {
  "kernelspec": {
   "display_name": "Python 3",
   "language": "python",
   "name": "python3"
  },
  "language_info": {
   "codemirror_mode": {
    "name": "ipython",
    "version": 3
   },
   "file_extension": ".py",
   "mimetype": "text/x-python",
   "name": "python",
   "nbconvert_exporter": "python",
   "pygments_lexer": "ipython3",
   "version": "3.6.1"
  }
 },
 "nbformat": 4,
 "nbformat_minor": 2
}
